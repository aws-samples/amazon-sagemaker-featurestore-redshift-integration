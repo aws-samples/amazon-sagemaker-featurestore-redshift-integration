{
 "cells": [
  {
   "cell_type": "markdown",
   "id": "4325afce-54f8-4c9b-9881-a59faeb20330",
   "metadata": {},
   "source": [
    "### Please make sure you have selected SparkAnalytics 2.0 as Image and Glue Python (PySpark & Ray) as Kernel.\n",
    "\n",
    "To change a notebook's image or kernel\n",
    " - Choose the image/kernel name in the notebook menu.\n",
    " - From the Set up notebook environment pop up window, select the Image or Kernel dropdown menu.\n",
    " - From the dropdown menu, choose \"SparkAnalytics 2.0\" as image, \"Glue Python [PySpark and Ray]\" as kernel\n",
    " - After choosing ml.t3.medium as Instance type, choose Select.\n",
    " - Wait for the kernel's status to show as idle, which indicates the kernel has started. \n"
   ]
  },
  {
   "cell_type": "markdown",
   "id": "e55bf64a",
   "metadata": {
    "tags": []
   },
   "source": [
    "### Ingest Data with Glue Interactive Session\n",
    "\n",
    "This notebook demonstrates how to read the redshift table data from the Glue Interactive Session.\n",
    "\n",
    "_The Amazon SageMaker Feature Store Spark Connector requires specific Spark connector JARs during the initialization of the session. You can upload them to your Amazon S3 bucket. After you’ve uploaded them, you must provide the GIS sessions with the JARs using the following command._\n",
    "\n",
    "`\n",
    "%extra_jars '<S3 URI>'\n",
    "`\n",
    "\n",
    "_To install the Spark Connector in the AWS Glue runtime, use the %additional_python_modules magic command within the GIS notebook. AWS Glue runs pip to the modules that you’ve specified under %additional_python_modules._\n",
    "\n",
    "`\n",
    "%additional_python_modules '<module1>,<module2>'\n",
    "`\n",
    "\n",
    "*** Before you start the AWS Glue session, you must use both of the preceding magic commands.***\n"
   ]
  },
  {
   "cell_type": "markdown",
   "id": "2849c71f",
   "metadata": {},
   "source": [
    "#### Replace '< region-code> and < acct-id>' with your current region code and account ID. \n",
    "    You can also copy and replace %extra_jars line below with the Jar Location from 1-uploadJar.ipynb"
   ]
  },
  {
   "cell_type": "code",
   "execution_count": null,
   "id": "6b010575",
   "metadata": {
    "tags": [],
    "vscode": {
     "languageId": "python_glue_session"
    }
   },
   "outputs": [],
   "source": [
    "%connections 'RS-SM-Demo-glue-Connection'\n",
    "%session_id_prefix 'rs-glueinteractivesession'\n",
    "%worker_type 'G.2X'\n",
    "%idle_timeout 720\n",
    "%additional_python_modules 'sagemaker,sagemaker-feature-store-pyspark'\n",
    "%extra_jars 's3://sagemaker-<region-code>-<acct-id>/sagemaker-feature-store-spark-jar/sagemaker-feature-store-spark-sdk.jar'\n",
    "%%configure\n",
    "{\n",
    "    \"--enable-auto-scaling\": \"true\",\n",
    "    \"--enable-metrics\": \"true\",\n",
    "    \"--enable-continuous-cloudwatch-log\": \"true\",\n",
    "    \"--enable-continuous-log-filter\": \"true\"\n",
    "}"
   ]
  },
  {
   "cell_type": "code",
   "execution_count": null,
   "id": "8155e3c7",
   "metadata": {
    "tags": [],
    "vscode": {
     "languageId": "python_glue_session"
    }
   },
   "outputs": [],
   "source": [
    "# Source configuration \n",
    "redshift_secret = 'SecretForRedshiftSageMakerDemo2023'\n",
    "redshift_schema ='sagemakerdemo'\n",
    "\n",
    "# Target configuration - Feature store\n",
    "feature_group_prefix = 'redshift-sm-demo-4a-'"
   ]
  },
  {
   "cell_type": "markdown",
   "id": "5ec270e8",
   "metadata": {},
   "source": [
    "### Import Dependencies"
   ]
  },
  {
   "cell_type": "code",
   "execution_count": null,
   "id": "9c6066ac",
   "metadata": {
    "tags": [],
    "vscode": {
     "languageId": "python_glue_session"
    }
   },
   "outputs": [],
   "source": [
    "from awsglue.transforms import *\n",
    "from pyspark.context import SparkContext\n",
    "from awsglue.context import GlueContext\n",
    "from pyspark.sql import SQLContext\n",
    "from pyspark.sql.functions import *\n",
    "import pyspark.sql.functions as fn\n",
    "import boto3\n",
    "import json\n",
    "import time\n",
    "import sagemaker\n",
    "from sagemaker.feature_store.feature_group import FeatureDefinition, FeatureGroup, FeatureTypeEnum, DataCatalogConfig\n",
    "from pyspark.sql import SparkSession\n",
    "from feature_store_pyspark.FeatureStoreManager import FeatureStoreManager\n",
    "import feature_store_pyspark\n",
    "sagemaker_session = sagemaker.Session()\n",
    "spark = SparkSession.builder.getOrCreate()\n",
    "feature_store_manager= FeatureStoreManager()\n",
    "s3_bucket = sagemaker_session.default_bucket()\n",
    "rs_tmp_dir = f\"s3://{s3_bucket}/redshift_tmp/\"\n",
    "\n",
    "region = boto3.Session().region_name\n",
    "s3_client = boto3.client('s3', region_name=region)\n"
   ]
  },
  {
   "cell_type": "markdown",
   "id": "bd1b4934",
   "metadata": {},
   "source": [
    "#### Retrieve redshift connection details from Secrets Manager"
   ]
  },
  {
   "cell_type": "code",
   "execution_count": null,
   "id": "408bab76",
   "metadata": {
    "tags": [],
    "vscode": {
     "languageId": "python_glue_session"
    }
   },
   "outputs": [],
   "source": [
    "glueContext = GlueContext(SparkContext.getOrCreate())\n",
    "client = boto3.client('secretsmanager')\n",
    "response = client.get_secret_value(SecretId=redshift_secret)\n",
    "database_secrets = json.loads(response['SecretString'])\n",
    "username = database_secrets['username']\n",
    "password = database_secrets['password']\n",
    "host = database_secrets['host']\n",
    "port = database_secrets['port']\n",
    "engine = database_secrets['engine']\n"
   ]
  },
  {
   "cell_type": "code",
   "execution_count": null,
   "id": "dae4a7a5",
   "metadata": {
    "tags": [],
    "vscode": {
     "languageId": "python_glue_session"
    }
   },
   "outputs": [],
   "source": [
    "def create_connection(tablename):\n",
    "    rs_conn = {  \n",
    "    \"url\": \"jdbc:\" + engine + \"://\" + host + \":\" + str(port) + \"/dev\",\n",
    "    \"dbtable\": redshift_schema + \".\" + tablename ,\n",
    "    \"user\": username,\n",
    "    \"password\": password,\n",
    "    \"redshiftTmpDir\": rs_tmp_dir\n",
    "    }\n",
    "    return rs_conn"
   ]
  },
  {
   "cell_type": "code",
   "execution_count": null,
   "id": "8a6ecdcf",
   "metadata": {
    "tags": [],
    "vscode": {
     "languageId": "python_glue_session"
    }
   },
   "outputs": [],
   "source": [
    "users = glueContext.create_data_frame_from_options(\"redshift\",create_connection(\"dim_user\"))\n",
    "places = glueContext.create_data_frame_from_options(\"redshift\",create_connection(\"dim_place\"))\n",
    "ratings = glueContext.create_data_frame_from_options(\"redshift\",create_connection(\"fact_rating\"))"
   ]
  },
  {
   "cell_type": "code",
   "execution_count": null,
   "id": "8fe01346",
   "metadata": {
    "tags": [],
    "vscode": {
     "languageId": "python_glue_session"
    }
   },
   "outputs": [],
   "source": [
    "users_cnt = users.count()\n",
    "places_cnt = places.count()\n",
    "ratings_cnt = ratings.count()\n",
    "print(f\"users_cnt :{users_cnt} \\nplaces_cnt : {places_cnt} \\nratings_cnt : {ratings_cnt}\")"
   ]
  },
  {
   "cell_type": "markdown",
   "id": "af15f341-96a2-4422-ba40-0b10578c47a1",
   "metadata": {
    "jp-MarkdownHeadingCollapsed": true,
    "tags": []
   },
   "source": [
    "### Feature engineering\n",
    "This part is just doing some simple feature transformations only for reference"
   ]
  },
  {
   "cell_type": "markdown",
   "id": "1ede37c8-50d3-4bdc-b14c-ca7fbcbd8ad9",
   "metadata": {},
   "source": [
    "### 1.User Data"
   ]
  },
  {
   "cell_type": "markdown",
   "id": "e41d577e-df30-47dd-82c4-1a27d09e4ce0",
   "metadata": {},
   "source": [
    "#### 1-1 Refine TimeStamp Format"
   ]
  },
  {
   "cell_type": "code",
   "execution_count": null,
   "id": "c504f95c-ad3f-477e-a40e-3efdbaeb1e07",
   "metadata": {
    "tags": [],
    "vscode": {
     "languageId": "python_glue_session"
    }
   },
   "outputs": [],
   "source": [
    "users_data = users.withColumn(\"timestamp\", date_format(col(\"timestamp\"),\"yyyy-MM-dd'T'HH:mm:ss.SSS'Z'\")) \n",
    "users_data.show(1)"
   ]
  },
  {
   "cell_type": "markdown",
   "id": "1df1334c-945c-4c10-accc-5d49c2b42b34",
   "metadata": {},
   "source": [
    "#### 1-2 Drop Columns"
   ]
  },
  {
   "cell_type": "code",
   "execution_count": null,
   "id": "bc9c6ab0-153b-4cce-bba3-e6133bcaf1ee",
   "metadata": {
    "tags": [],
    "vscode": {
     "languageId": "python_glue_session"
    }
   },
   "outputs": [],
   "source": [
    "drop_cols = ['user_activity','user_ambience','user_birth_year','user_cuisine','user_color','user_dress_preference','user_hijos','user_dress_preference','user_marital_status','user_payment','user_weight','user_religion','user_height']\n",
    "users_data = users_data.drop(*drop_cols)\n",
    "users_data.show(1)"
   ]
  },
  {
   "cell_type": "markdown",
   "id": "102bad02-502c-4137-af88-781e090f138d",
   "metadata": {},
   "source": [
    "#### 1-3 input missing values"
   ]
  },
  {
   "cell_type": "code",
   "execution_count": null,
   "id": "a7b974bd-0130-4cb9-a480-03ce3b776a95",
   "metadata": {
    "tags": [],
    "vscode": {
     "languageId": "python_glue_session"
    }
   },
   "outputs": [],
   "source": [
    "# fill with missing values\n",
    "users_data = users_data.fillna({\"user_smoker\" : False, \"user_transport\" : \"PUBLIC\" , \"user_budget\" : \"MEDIUM\"})\n",
    "users_data.show(1)"
   ]
  },
  {
   "cell_type": "markdown",
   "id": "74ca6773-a0fc-4b79-9db4-4737d4517f38",
   "metadata": {},
   "source": [
    "#### 1-4 Ordinal Encoding"
   ]
  },
  {
   "cell_type": "code",
   "execution_count": null,
   "id": "12d56d0b-9212-428b-8175-f2dd4b2d32de",
   "metadata": {
    "tags": [],
    "vscode": {
     "languageId": "python_glue_session"
    }
   },
   "outputs": [],
   "source": [
    "user_drink_level_dict = {'ABSTEMIOUS': 0, 'CASUAL DRINKER': 1, 'SOCIAL DRINKER': 2}\n",
    "user_budget_dict = {'LOW': 0, 'MEDIUM': 1, 'HIGH': 2}\n",
    "user_transport_dict = {'ON FOOT': 0, 'PUBLIC': 1, 'CAR OWNER': 2}\n",
    "\n",
    "# user drink\n",
    "keys = array(list(map(lit, user_drink_level_dict.keys())))\n",
    "values = array(list(map(lit, user_drink_level_dict.values())))\n",
    "_map = map_from_arrays(keys, values)\n",
    "users_data = users_data.withColumn(\"user_drink_level2\", _map.getItem(col(\"user_drink_level\"))).drop(\"user_drink_level\").withColumnRenamed(\"user_drink_level2\", \"user_drink_level\")\n",
    "# user budget\n",
    "keys = array(list(map(lit, user_budget_dict.keys())))\n",
    "values = array(list(map(lit, user_budget_dict.values())))\n",
    "_map = map_from_arrays(keys, values)\n",
    "users_data = users_data.withColumn(\"user_budget2\", _map.getItem(col(\"user_budget\"))).drop(\"user_budget\").withColumnRenamed(\"user_budget2\", \"user_budget\")\n",
    "# user transport\n",
    "keys = array(list(map(lit, user_transport_dict.keys())))\n",
    "values = array(list(map(lit, user_transport_dict.values())))\n",
    "_map = map_from_arrays(keys, values)\n",
    "users_data = users_data.withColumn(\"user_transport2\", _map.getItem(col(\"user_transport\"))).drop(\"user_transport\").withColumnRenamed(\"user_transport2\", \"user_transport\")\n",
    "users_data.show(1)"
   ]
  },
  {
   "cell_type": "markdown",
   "id": "1f1a7195-e426-491f-958d-2088789834f2",
   "metadata": {},
   "source": [
    "#### 1-5 One-hot Encoding"
   ]
  },
  {
   "cell_type": "code",
   "execution_count": null,
   "id": "dcf538b8-bc53-4054-b0e1-c8c5d430f627",
   "metadata": {
    "tags": [],
    "vscode": {
     "languageId": "python_glue_session"
    }
   },
   "outputs": [],
   "source": [
    "from pyspark.ml.feature import StringIndexer\n",
    "indexer = StringIndexer(inputCol='user_interest', outputCol='user_interest_numeric')\n",
    "indexer_fitted = indexer.fit(users_data)\n",
    "users_data = indexer_fitted.transform(users_data)\n",
    "\n",
    "indexer2 = StringIndexer(inputCol='user_personality', outputCol='user_personality_numeric')\n",
    "indexer_fitted2 = indexer2.fit(users_data)\n",
    "users_data = indexer_fitted2.transform(users_data)\n",
    "\n",
    "from pyspark.ml.feature import OneHotEncoder\n",
    "encoder = OneHotEncoder(inputCols=['user_interest_numeric','user_personality_numeric'], outputCols=['user_interest_onehot','user_personality_onehot'], dropLast=False)\n",
    "df_onehot = encoder.fit(users_data).transform(users_data)\n",
    "df_onehot.show(1)"
   ]
  },
  {
   "cell_type": "code",
   "execution_count": null,
   "id": "351de944-b804-496d-a4a4-efa4258f1e1d",
   "metadata": {
    "tags": [],
    "vscode": {
     "languageId": "python_glue_session"
    }
   },
   "outputs": [],
   "source": [
    "# For user interest feature\n",
    "from pyspark.ml.functions import vector_to_array\n",
    "import pyspark.sql.functions as F\n",
    "\n",
    "df_user_interest_onehot = df_onehot.select('*', vector_to_array('user_interest_onehot').alias('_interest_onehot'))\n",
    "num_categories = len(df_user_interest_onehot.first()['_interest_onehot'])\n",
    "cols_expanded = [(F.col('_interest_onehot')[i].alias(f'{indexer_fitted.labels[i]}')) for i in range(num_categories)]\n",
    "df_user_interest_onehot = df_user_interest_onehot.select('userid',*cols_expanded)\n",
    "df_user_interest_onehot = df_user_interest_onehot.select('userid',col(\"TECHNOLOGY\").alias(\"user_interest_\" + \"TECHNOLOGY\"), col(\"ECO-FRIENDLY\").alias(\"user_interest_\" + \"ECO-FRIENDLY\"), col(\"NONE\").alias(\"user_interest_\" + \"NONE\"), col(\"VARIETY\").alias(\"user_interest_\" + \"VARIETY\"), col(\"RETRO\").alias(\"user_interest_\" + \"RETRO\"))\n",
    "df_user_interest_onehot.show(1)"
   ]
  },
  {
   "cell_type": "code",
   "execution_count": null,
   "id": "c63d0caa-8074-4830-a99c-b7b9eed5d465",
   "metadata": {
    "tags": [],
    "vscode": {
     "languageId": "python_glue_session"
    }
   },
   "outputs": [],
   "source": [
    "# For user personality feature\n",
    "from pyspark.ml.functions import vector_to_array\n",
    "import pyspark.sql.functions as F\n",
    "\n",
    "df_user_personality_onehot = df_onehot.select('*', vector_to_array('user_personality_onehot').alias('_personality_onehot'))\n",
    "num_categories = len(df_user_personality_onehot.first()['_personality_onehot'])\n",
    "cols_expanded = [(F.col('_personality_onehot')[i].alias(f'{indexer_fitted2.labels[i]}')) for i in range(num_categories)]\n",
    "df_user_personality_onehot = df_user_personality_onehot.select('userid',*cols_expanded)\n",
    "df_user_personality_onehot = df_user_personality_onehot.select('userid',col(\"CONFORMIST\").alias(\"user_personality_\" + \"CONFORMIST\"), col(\"THRIFTY-PROTECTOR\").alias(\"user_personality_\" + \"THRIFTY-PROTECTOR\"), col(\"HUNTER-OSTENTATIOUS\").alias(\"user_personality_\" + \"HUNTER-OSTENTATIOUS\"), col(\"HARD-WORKER\").alias(\"user_personality_\" + \"HARD-WORKER\"))\n",
    "df_user_personality_onehot.show(1)"
   ]
  },
  {
   "cell_type": "code",
   "execution_count": null,
   "id": "a7d70461-cb89-40b5-872b-5b4c7d795a57",
   "metadata": {
    "tags": [],
    "vscode": {
     "languageId": "python_glue_session"
    }
   },
   "outputs": [],
   "source": [
    "# Join together and drop original features\n",
    "_col = [\"user_interest\" , \"user_personality\" , \"user_interest_numeric\" ,\"user_personality_numeric\"]\n",
    "users_data = users_data.drop(*_col).join(df_user_interest_onehot,['userid'],how='inner').join(df_user_personality_onehot,['userid'],how='inner')\n",
    "users_data.show(1)"
   ]
  },
  {
   "cell_type": "markdown",
   "id": "03d95918-6ce7-4a77-abd2-0b16ef68a10e",
   "metadata": {
    "tags": []
   },
   "source": [
    "#### 1-6 Reorder columns"
   ]
  },
  {
   "cell_type": "code",
   "execution_count": null,
   "id": "762e9625-24b0-40d0-ae72-9e501f14f256",
   "metadata": {
    "tags": [],
    "vscode": {
     "languageId": "python_glue_session"
    }
   },
   "outputs": [],
   "source": [
    "_column_names = ['userid', 'user_drink_level', 'user_smoker', 'user_budget', 'user_latitude', 'user_longitude','user_transport','user_interest_VARIETY','user_interest_ECO-FRIENDLY',  'user_interest_RETRO', 'user_interest_TECHNOLOGY', 'user_interest_NONE', 'user_personality_CONFORMIST', 'user_personality_THRIFTY-PROTECTOR', 'user_personality_HUNTER-OSTENTATIOUS', 'user_personality_HARD-WORKER', 'timestamp']\n",
    "users_data = users_data.select(_column_names)\n",
    "users_data.show(1)"
   ]
  },
  {
   "cell_type": "markdown",
   "id": "5ca94b8c-677b-4f72-8293-98923eca4197",
   "metadata": {},
   "source": [
    "### 2.Place Data"
   ]
  },
  {
   "cell_type": "markdown",
   "id": "3b43c30c-78c6-4816-a926-e2fc989950af",
   "metadata": {},
   "source": [
    "#### 2-1 Refine timestamp format"
   ]
  },
  {
   "cell_type": "code",
   "execution_count": null,
   "id": "15e80e87-7a02-426c-9104-4cc5e36605a3",
   "metadata": {
    "tags": [],
    "vscode": {
     "languageId": "python_glue_session"
    }
   },
   "outputs": [],
   "source": [
    "places_data = places.withColumn(\"timestamp\", date_format(col(\"timestamp\"),\"yyyy-MM-dd'T'HH:mm:ss.SSS'Z'\")) \n",
    "places_data.show(1)"
   ]
  },
  {
   "cell_type": "markdown",
   "id": "db5b58cf-b9b2-4738-890e-7f63c3e67eb1",
   "metadata": {},
   "source": [
    "#### 2-2 Drop columns"
   ]
  },
  {
   "cell_type": "code",
   "execution_count": null,
   "id": "d5e7b0c1-ef81-4b6d-8d83-d59dd4d41650",
   "metadata": {
    "tags": [],
    "vscode": {
     "languageId": "python_glue_session"
    }
   },
   "outputs": [],
   "source": [
    "drop_cols = ['place_address','place_accessibility','place_ambience','place_area','place_city','place_dress_code','place_cuisine','place_franchise','place_name','place_other_services','place_payment','place_state','place_zip','place_country']\n",
    "places_data = places_data.drop(*drop_cols)\n",
    "places_data.show(1)"
   ]
  },
  {
   "cell_type": "markdown",
   "id": "e8d3c08a-7811-4302-8131-a90f95534a1c",
   "metadata": {},
   "source": [
    "#### 2-3 Ordinal Encoding"
   ]
  },
  {
   "cell_type": "code",
   "execution_count": null,
   "id": "d5f527c4-9a0e-4bcc-8f07-0e9448131e08",
   "metadata": {
    "tags": [],
    "vscode": {
     "languageId": "python_glue_session"
    }
   },
   "outputs": [],
   "source": [
    "place_alcohol_dict = {'NO_ALCOHOL_SERVED': 0, 'WINE-BEER': 1, 'FULL_BAR': 2}\n",
    "place_smoking_area_dict = {'NONE': 0, 'NOT PERMITTED': 0, 'ONLY AT BAR': 1, 'SECTION': 2, 'PERMITTED': 3}\n",
    "place_price_dict = {'LOW': 0, 'MEDIUM': 1, 'HIGH': 2}\n",
    "place_parking_lot_dict = {'[NONE]': 0, '[PUBLIC]': 1, '[VALET PARKING]': 2, '[YES]': 3}\n",
    "\n",
    "# place_alcohol\n",
    "keys = array(list(map(lit, place_alcohol_dict.keys())))\n",
    "values = array(list(map(lit, place_alcohol_dict.values())))\n",
    "_map = map_from_arrays(keys, values)\n",
    "places_data = places_data.withColumn(\"place_alcohol2\", _map.getItem(col(\"place_alcohol\"))).drop(\"place_alcohol\").withColumnRenamed(\"place_alcohol2\", \"place_alcohol\")\n",
    "# place_smoking_area\n",
    "keys = array(list(map(lit, place_smoking_area_dict.keys())))\n",
    "values = array(list(map(lit, place_smoking_area_dict.values())))\n",
    "_map = map_from_arrays(keys, values)\n",
    "places_data = places_data.withColumn(\"place_smoking_area2\", _map.getItem(col(\"place_smoking_area\"))).drop(\"place_smoking_area\").withColumnRenamed(\"place_smoking_area2\", \"place_smoking_area\")\n",
    "# place_price\n",
    "keys = array(list(map(lit, place_price_dict.keys())))\n",
    "values = array(list(map(lit, place_price_dict.values())))\n",
    "_map = map_from_arrays(keys, values)\n",
    "places_data = places_data.withColumn(\"place_price2\", _map.getItem(col(\"place_price\"))).drop(\"place_price\").withColumnRenamed(\"place_price2\", \"place_price\")\n",
    "# place_parking_lot\n",
    "keys = array(list(map(lit, place_parking_lot_dict.keys())))\n",
    "values = array(list(map(lit, place_parking_lot_dict.values())))\n",
    "_map = map_from_arrays(keys, values)\n",
    "places_data = places_data.withColumn(\"place_parking_lot2\", _map.getItem(col(\"place_parking_lot\"))).drop(\"place_parking_lot\").withColumnRenamed(\"place_parking_lot2\", \"place_parking_lot\")\n",
    "places_data.show(1)"
   ]
  },
  {
   "cell_type": "markdown",
   "id": "f0cae6ea-9189-477d-8d8e-a70ad2ba81d8",
   "metadata": {},
   "source": [
    "#### 2-4 Reorder columns"
   ]
  },
  {
   "cell_type": "code",
   "execution_count": null,
   "id": "82d7f8ab-51af-48d8-8a8e-e9809c16fc9c",
   "metadata": {
    "tags": [],
    "vscode": {
     "languageId": "python_glue_session"
    }
   },
   "outputs": [],
   "source": [
    "_column_names = ['placeid', 'place_latitude', 'place_longitude', 'place_smoking_area', 'place_alcohol', 'place_price','place_parking_lot','timestamp']\n",
    "places_data = places_data.select(_column_names)\n",
    "places_data.show(1)"
   ]
  },
  {
   "cell_type": "markdown",
   "id": "90038b2b-a3ed-41a0-b388-c52eddfc11d4",
   "metadata": {
    "tags": []
   },
   "source": [
    "### 3.Rating Data"
   ]
  },
  {
   "cell_type": "markdown",
   "id": "1e6b786d-127e-4223-8724-921f26016b0a",
   "metadata": {},
   "source": [
    "#### 3-1 Refine timestamp format"
   ]
  },
  {
   "cell_type": "code",
   "execution_count": null,
   "id": "d1efdfd0-5b4d-4e41-ad63-128af69024c1",
   "metadata": {
    "tags": [],
    "vscode": {
     "languageId": "python_glue_session"
    }
   },
   "outputs": [],
   "source": [
    "ratings_data = ratings.withColumn(\"timestamp\", date_format(col(\"timestamp\"),\"yyyy-MM-dd'T'HH:mm:ss.SSS'Z'\")) \n",
    "ratings_data.show(1)"
   ]
  },
  {
   "cell_type": "markdown",
   "id": "fcd7cbdc-47dd-4ce8-aaa3-93d6dc24032d",
   "metadata": {
    "tags": []
   },
   "source": [
    "#### 3-2 Drop columns"
   ]
  },
  {
   "cell_type": "code",
   "execution_count": null,
   "id": "a010bd9c-d263-4761-9c66-9db5abbbe576",
   "metadata": {
    "tags": [],
    "vscode": {
     "languageId": "python_glue_session"
    }
   },
   "outputs": [],
   "source": [
    "drop_cols = ['rating_food','rating_service']\n",
    "ratings_data = ratings_data.drop(*drop_cols)\n",
    "ratings_data.show(1)"
   ]
  },
  {
   "cell_type": "markdown",
   "id": "186eb92d-f40f-4cff-9e3c-1e534aa6a418",
   "metadata": {},
   "source": [
    "#### 3-3 Reorder columns"
   ]
  },
  {
   "cell_type": "code",
   "execution_count": null,
   "id": "37bf3ee9-c9d4-4301-8985-d22ee87b0081",
   "metadata": {
    "tags": [],
    "vscode": {
     "languageId": "python_glue_session"
    }
   },
   "outputs": [],
   "source": [
    "_column_names = ['userid', 'ratingid', 'placeid', 'rating_overall','timestamp']\n",
    "ratings_data = ratings_data.select(_column_names)\n",
    "ratings_data.show(1)"
   ]
  },
  {
   "cell_type": "markdown",
   "id": "a2b18910",
   "metadata": {},
   "source": [
    "### Ingest redshift data into feature store"
   ]
  },
  {
   "cell_type": "code",
   "execution_count": null,
   "id": "c698b5c1",
   "metadata": {
    "tags": [],
    "vscode": {
     "languageId": "python_glue_session"
    }
   },
   "outputs": [],
   "source": [
    "def ingest_data_to_feature_store(dataframe, feature_group_name, sagemaker_session):\n",
    "    feature_group_arn = sagemaker_session.describe_feature_group(feature_group_name)['FeatureGroupArn']\n",
    "    feature_store_manager.ingest_data(input_data_frame=dataframe, feature_group_arn= feature_group_arn)\n",
    "    print(f'Process - ingest_to_feature_store - {feature_group_name} : Completed')"
   ]
  },
  {
   "cell_type": "code",
   "execution_count": null,
   "id": "815f0e3e-8bbb-4056-9fa2-ad9d7331b1d6",
   "metadata": {
    "tags": [],
    "vscode": {
     "languageId": "python_glue_session"
    }
   },
   "outputs": [],
   "source": [
    "users_feature_group_name = feature_group_prefix + 'users'\n",
    "places_feature_group_name = feature_group_prefix + 'places'\n",
    "ratings_feature_group_name = feature_group_prefix + 'ratings'"
   ]
  },
  {
   "cell_type": "code",
   "execution_count": null,
   "id": "583d0806-e50b-4bce-8ce1-96b1cbb19260",
   "metadata": {
    "tags": [],
    "vscode": {
     "languageId": "python_glue_session"
    }
   },
   "outputs": [],
   "source": [
    "ingest_data_to_feature_store(users_data,users_feature_group_name,sagemaker_session)\n",
    "ingest_data_to_feature_store(places_data,places_feature_group_name,sagemaker_session)\n",
    "ingest_data_to_feature_store(ratings_data,ratings_feature_group_name,sagemaker_session)"
   ]
  },
  {
   "cell_type": "code",
   "execution_count": null,
   "id": "7e0aeb33",
   "metadata": {
    "tags": [],
    "vscode": {
     "languageId": "python_glue_session"
    }
   },
   "outputs": [],
   "source": [
    "def wait_for_feature_group_data_ingest(s3_bucket, s3_prefix):\n",
    "    print(f\"Polling S3 location for data: {s3_prefix}\")\n",
    "    while True:\n",
    "        objects_in_bucket = s3_client.list_objects(Bucket=s3_bucket, Prefix=s3_prefix)\n",
    "        if \"Contents\" in objects_in_bucket and len(objects_in_bucket[\"Contents\"]) > 1:\n",
    "            break\n",
    "        else:\n",
    "            print(\"Waiting for data in offline store...\")\n",
    "            time.sleep(60)\n",
    "    print(f\"Data available. - {s3_prefix}\")\n",
    "    \n",
    "\n",
    "def get_table_name(feature_group_name):\n",
    "    featurestore_table = sagemaker_session.describe_feature_group(feature_group_name)['OfflineStoreConfig']['DataCatalogConfig']['TableName']\n",
    "    return featurestore_table"
   ]
  },
  {
   "cell_type": "code",
   "execution_count": null,
   "id": "bbfcfdb0-cd63-42c5-9538-f7aeef2ae8f9",
   "metadata": {
    "tags": [],
    "vscode": {
     "languageId": "python_glue_session"
    }
   },
   "outputs": [],
   "source": [
    "wait_for_feature_group_data_ingest(s3_bucket, users_feature_group_name)\n",
    "wait_for_feature_group_data_ingest(s3_bucket, places_feature_group_name)\n",
    "wait_for_feature_group_data_ingest(s3_bucket, ratings_feature_group_name)"
   ]
  },
  {
   "cell_type": "code",
   "execution_count": null,
   "id": "268150fb-81ee-4edb-a7dd-166b3b40a16e",
   "metadata": {
    "tags": [],
    "vscode": {
     "languageId": "python_glue_session"
    }
   },
   "outputs": [],
   "source": [
    "users_table = get_table_name(users_feature_group_name)\n",
    "places_table = get_table_name(places_feature_group_name)\n",
    "ratings_table = get_table_name(ratings_feature_group_name)\n",
    "print(f\"users_table : {users_table} \\nplaces_table : {places_table} \\nratings_table : {ratings_table} \")"
   ]
  },
  {
   "cell_type": "markdown",
   "id": "61c04553",
   "metadata": {},
   "source": [
    "#### Read feature store data"
   ]
  },
  {
   "cell_type": "code",
   "execution_count": null,
   "id": "f6c8ff2f",
   "metadata": {
    "tags": [],
    "vscode": {
     "languageId": "python_glue_session"
    }
   },
   "outputs": [],
   "source": [
    "users_table_df = glueContext.create_data_frame.from_catalog(database=\"sagemaker_featurestore\", table_name=users_table)\n",
    "places_table_df = glueContext.create_data_frame.from_catalog(database=\"sagemaker_featurestore\", table_name=places_table)\n",
    "ratings_table_df = glueContext.create_data_frame.from_catalog(database=\"sagemaker_featurestore\", table_name=ratings_table)"
   ]
  },
  {
   "cell_type": "code",
   "execution_count": null,
   "id": "8d424f66",
   "metadata": {
    "tags": [],
    "vscode": {
     "languageId": "python_glue_session"
    }
   },
   "outputs": [],
   "source": [
    "users_table_df.show()"
   ]
  },
  {
   "cell_type": "code",
   "execution_count": null,
   "id": "d93097c7",
   "metadata": {
    "tags": [],
    "vscode": {
     "languageId": "python_glue_session"
    }
   },
   "outputs": [],
   "source": [
    "places_table_df.show()"
   ]
  },
  {
   "cell_type": "code",
   "execution_count": null,
   "id": "3573ca5c",
   "metadata": {
    "tags": [],
    "vscode": {
     "languageId": "python_glue_session"
    }
   },
   "outputs": [],
   "source": [
    "ratings_table_df.show()"
   ]
  },
  {
   "cell_type": "markdown",
   "id": "f8332c3d",
   "metadata": {},
   "source": [
    "After you’ve completed your work, you can end your AWS Glue interactive session immediately by simply shutting down the Studio notebook kernel, or you could use the %stop_session magic."
   ]
  },
  {
   "cell_type": "code",
   "execution_count": null,
   "id": "fd8eafa1",
   "metadata": {
    "tags": [],
    "vscode": {
     "languageId": "python_glue_session"
    }
   },
   "outputs": [],
   "source": [
    "%stop_session"
   ]
  },
  {
   "cell_type": "code",
   "execution_count": null,
   "id": "4cd41821-0134-482e-82cd-b5e90564c5c2",
   "metadata": {
    "vscode": {
     "languageId": "python_glue_session"
    }
   },
   "outputs": [],
   "source": []
  }
 ],
 "metadata": {
  "availableInstances": [
   {
    "_defaultOrder": 0,
    "_isFastLaunch": true,
    "category": "General purpose",
    "gpuNum": 0,
    "hideHardwareSpecs": false,
    "memoryGiB": 4,
    "name": "ml.t3.medium",
    "vcpuNum": 2
   },
   {
    "_defaultOrder": 1,
    "_isFastLaunch": false,
    "category": "General purpose",
    "gpuNum": 0,
    "hideHardwareSpecs": false,
    "memoryGiB": 8,
    "name": "ml.t3.large",
    "vcpuNum": 2
   },
   {
    "_defaultOrder": 2,
    "_isFastLaunch": false,
    "category": "General purpose",
    "gpuNum": 0,
    "hideHardwareSpecs": false,
    "memoryGiB": 16,
    "name": "ml.t3.xlarge",
    "vcpuNum": 4
   },
   {
    "_defaultOrder": 3,
    "_isFastLaunch": false,
    "category": "General purpose",
    "gpuNum": 0,
    "hideHardwareSpecs": false,
    "memoryGiB": 32,
    "name": "ml.t3.2xlarge",
    "vcpuNum": 8
   },
   {
    "_defaultOrder": 4,
    "_isFastLaunch": true,
    "category": "General purpose",
    "gpuNum": 0,
    "hideHardwareSpecs": false,
    "memoryGiB": 8,
    "name": "ml.m5.large",
    "vcpuNum": 2
   },
   {
    "_defaultOrder": 5,
    "_isFastLaunch": false,
    "category": "General purpose",
    "gpuNum": 0,
    "hideHardwareSpecs": false,
    "memoryGiB": 16,
    "name": "ml.m5.xlarge",
    "vcpuNum": 4
   },
   {
    "_defaultOrder": 6,
    "_isFastLaunch": false,
    "category": "General purpose",
    "gpuNum": 0,
    "hideHardwareSpecs": false,
    "memoryGiB": 32,
    "name": "ml.m5.2xlarge",
    "vcpuNum": 8
   },
   {
    "_defaultOrder": 7,
    "_isFastLaunch": false,
    "category": "General purpose",
    "gpuNum": 0,
    "hideHardwareSpecs": false,
    "memoryGiB": 64,
    "name": "ml.m5.4xlarge",
    "vcpuNum": 16
   },
   {
    "_defaultOrder": 8,
    "_isFastLaunch": false,
    "category": "General purpose",
    "gpuNum": 0,
    "hideHardwareSpecs": false,
    "memoryGiB": 128,
    "name": "ml.m5.8xlarge",
    "vcpuNum": 32
   },
   {
    "_defaultOrder": 9,
    "_isFastLaunch": false,
    "category": "General purpose",
    "gpuNum": 0,
    "hideHardwareSpecs": false,
    "memoryGiB": 192,
    "name": "ml.m5.12xlarge",
    "vcpuNum": 48
   },
   {
    "_defaultOrder": 10,
    "_isFastLaunch": false,
    "category": "General purpose",
    "gpuNum": 0,
    "hideHardwareSpecs": false,
    "memoryGiB": 256,
    "name": "ml.m5.16xlarge",
    "vcpuNum": 64
   },
   {
    "_defaultOrder": 11,
    "_isFastLaunch": false,
    "category": "General purpose",
    "gpuNum": 0,
    "hideHardwareSpecs": false,
    "memoryGiB": 384,
    "name": "ml.m5.24xlarge",
    "vcpuNum": 96
   },
   {
    "_defaultOrder": 12,
    "_isFastLaunch": false,
    "category": "General purpose",
    "gpuNum": 0,
    "hideHardwareSpecs": false,
    "memoryGiB": 8,
    "name": "ml.m5d.large",
    "vcpuNum": 2
   },
   {
    "_defaultOrder": 13,
    "_isFastLaunch": false,
    "category": "General purpose",
    "gpuNum": 0,
    "hideHardwareSpecs": false,
    "memoryGiB": 16,
    "name": "ml.m5d.xlarge",
    "vcpuNum": 4
   },
   {
    "_defaultOrder": 14,
    "_isFastLaunch": false,
    "category": "General purpose",
    "gpuNum": 0,
    "hideHardwareSpecs": false,
    "memoryGiB": 32,
    "name": "ml.m5d.2xlarge",
    "vcpuNum": 8
   },
   {
    "_defaultOrder": 15,
    "_isFastLaunch": false,
    "category": "General purpose",
    "gpuNum": 0,
    "hideHardwareSpecs": false,
    "memoryGiB": 64,
    "name": "ml.m5d.4xlarge",
    "vcpuNum": 16
   },
   {
    "_defaultOrder": 16,
    "_isFastLaunch": false,
    "category": "General purpose",
    "gpuNum": 0,
    "hideHardwareSpecs": false,
    "memoryGiB": 128,
    "name": "ml.m5d.8xlarge",
    "vcpuNum": 32
   },
   {
    "_defaultOrder": 17,
    "_isFastLaunch": false,
    "category": "General purpose",
    "gpuNum": 0,
    "hideHardwareSpecs": false,
    "memoryGiB": 192,
    "name": "ml.m5d.12xlarge",
    "vcpuNum": 48
   },
   {
    "_defaultOrder": 18,
    "_isFastLaunch": false,
    "category": "General purpose",
    "gpuNum": 0,
    "hideHardwareSpecs": false,
    "memoryGiB": 256,
    "name": "ml.m5d.16xlarge",
    "vcpuNum": 64
   },
   {
    "_defaultOrder": 19,
    "_isFastLaunch": false,
    "category": "General purpose",
    "gpuNum": 0,
    "hideHardwareSpecs": false,
    "memoryGiB": 384,
    "name": "ml.m5d.24xlarge",
    "vcpuNum": 96
   },
   {
    "_defaultOrder": 20,
    "_isFastLaunch": false,
    "category": "General purpose",
    "gpuNum": 0,
    "hideHardwareSpecs": true,
    "memoryGiB": 0,
    "name": "ml.geospatial.interactive",
    "supportedImageNames": [
     "sagemaker-geospatial-v1-0"
    ],
    "vcpuNum": 0
   },
   {
    "_defaultOrder": 21,
    "_isFastLaunch": true,
    "category": "Compute optimized",
    "gpuNum": 0,
    "hideHardwareSpecs": false,
    "memoryGiB": 4,
    "name": "ml.c5.large",
    "vcpuNum": 2
   },
   {
    "_defaultOrder": 22,
    "_isFastLaunch": false,
    "category": "Compute optimized",
    "gpuNum": 0,
    "hideHardwareSpecs": false,
    "memoryGiB": 8,
    "name": "ml.c5.xlarge",
    "vcpuNum": 4
   },
   {
    "_defaultOrder": 23,
    "_isFastLaunch": false,
    "category": "Compute optimized",
    "gpuNum": 0,
    "hideHardwareSpecs": false,
    "memoryGiB": 16,
    "name": "ml.c5.2xlarge",
    "vcpuNum": 8
   },
   {
    "_defaultOrder": 24,
    "_isFastLaunch": false,
    "category": "Compute optimized",
    "gpuNum": 0,
    "hideHardwareSpecs": false,
    "memoryGiB": 32,
    "name": "ml.c5.4xlarge",
    "vcpuNum": 16
   },
   {
    "_defaultOrder": 25,
    "_isFastLaunch": false,
    "category": "Compute optimized",
    "gpuNum": 0,
    "hideHardwareSpecs": false,
    "memoryGiB": 72,
    "name": "ml.c5.9xlarge",
    "vcpuNum": 36
   },
   {
    "_defaultOrder": 26,
    "_isFastLaunch": false,
    "category": "Compute optimized",
    "gpuNum": 0,
    "hideHardwareSpecs": false,
    "memoryGiB": 96,
    "name": "ml.c5.12xlarge",
    "vcpuNum": 48
   },
   {
    "_defaultOrder": 27,
    "_isFastLaunch": false,
    "category": "Compute optimized",
    "gpuNum": 0,
    "hideHardwareSpecs": false,
    "memoryGiB": 144,
    "name": "ml.c5.18xlarge",
    "vcpuNum": 72
   },
   {
    "_defaultOrder": 28,
    "_isFastLaunch": false,
    "category": "Compute optimized",
    "gpuNum": 0,
    "hideHardwareSpecs": false,
    "memoryGiB": 192,
    "name": "ml.c5.24xlarge",
    "vcpuNum": 96
   },
   {
    "_defaultOrder": 29,
    "_isFastLaunch": true,
    "category": "Accelerated computing",
    "gpuNum": 1,
    "hideHardwareSpecs": false,
    "memoryGiB": 16,
    "name": "ml.g4dn.xlarge",
    "vcpuNum": 4
   },
   {
    "_defaultOrder": 30,
    "_isFastLaunch": false,
    "category": "Accelerated computing",
    "gpuNum": 1,
    "hideHardwareSpecs": false,
    "memoryGiB": 32,
    "name": "ml.g4dn.2xlarge",
    "vcpuNum": 8
   },
   {
    "_defaultOrder": 31,
    "_isFastLaunch": false,
    "category": "Accelerated computing",
    "gpuNum": 1,
    "hideHardwareSpecs": false,
    "memoryGiB": 64,
    "name": "ml.g4dn.4xlarge",
    "vcpuNum": 16
   },
   {
    "_defaultOrder": 32,
    "_isFastLaunch": false,
    "category": "Accelerated computing",
    "gpuNum": 1,
    "hideHardwareSpecs": false,
    "memoryGiB": 128,
    "name": "ml.g4dn.8xlarge",
    "vcpuNum": 32
   },
   {
    "_defaultOrder": 33,
    "_isFastLaunch": false,
    "category": "Accelerated computing",
    "gpuNum": 4,
    "hideHardwareSpecs": false,
    "memoryGiB": 192,
    "name": "ml.g4dn.12xlarge",
    "vcpuNum": 48
   },
   {
    "_defaultOrder": 34,
    "_isFastLaunch": false,
    "category": "Accelerated computing",
    "gpuNum": 1,
    "hideHardwareSpecs": false,
    "memoryGiB": 256,
    "name": "ml.g4dn.16xlarge",
    "vcpuNum": 64
   },
   {
    "_defaultOrder": 35,
    "_isFastLaunch": false,
    "category": "Accelerated computing",
    "gpuNum": 1,
    "hideHardwareSpecs": false,
    "memoryGiB": 61,
    "name": "ml.p3.2xlarge",
    "vcpuNum": 8
   },
   {
    "_defaultOrder": 36,
    "_isFastLaunch": false,
    "category": "Accelerated computing",
    "gpuNum": 4,
    "hideHardwareSpecs": false,
    "memoryGiB": 244,
    "name": "ml.p3.8xlarge",
    "vcpuNum": 32
   },
   {
    "_defaultOrder": 37,
    "_isFastLaunch": false,
    "category": "Accelerated computing",
    "gpuNum": 8,
    "hideHardwareSpecs": false,
    "memoryGiB": 488,
    "name": "ml.p3.16xlarge",
    "vcpuNum": 64
   },
   {
    "_defaultOrder": 38,
    "_isFastLaunch": false,
    "category": "Accelerated computing",
    "gpuNum": 8,
    "hideHardwareSpecs": false,
    "memoryGiB": 768,
    "name": "ml.p3dn.24xlarge",
    "vcpuNum": 96
   },
   {
    "_defaultOrder": 39,
    "_isFastLaunch": false,
    "category": "Memory Optimized",
    "gpuNum": 0,
    "hideHardwareSpecs": false,
    "memoryGiB": 16,
    "name": "ml.r5.large",
    "vcpuNum": 2
   },
   {
    "_defaultOrder": 40,
    "_isFastLaunch": false,
    "category": "Memory Optimized",
    "gpuNum": 0,
    "hideHardwareSpecs": false,
    "memoryGiB": 32,
    "name": "ml.r5.xlarge",
    "vcpuNum": 4
   },
   {
    "_defaultOrder": 41,
    "_isFastLaunch": false,
    "category": "Memory Optimized",
    "gpuNum": 0,
    "hideHardwareSpecs": false,
    "memoryGiB": 64,
    "name": "ml.r5.2xlarge",
    "vcpuNum": 8
   },
   {
    "_defaultOrder": 42,
    "_isFastLaunch": false,
    "category": "Memory Optimized",
    "gpuNum": 0,
    "hideHardwareSpecs": false,
    "memoryGiB": 128,
    "name": "ml.r5.4xlarge",
    "vcpuNum": 16
   },
   {
    "_defaultOrder": 43,
    "_isFastLaunch": false,
    "category": "Memory Optimized",
    "gpuNum": 0,
    "hideHardwareSpecs": false,
    "memoryGiB": 256,
    "name": "ml.r5.8xlarge",
    "vcpuNum": 32
   },
   {
    "_defaultOrder": 44,
    "_isFastLaunch": false,
    "category": "Memory Optimized",
    "gpuNum": 0,
    "hideHardwareSpecs": false,
    "memoryGiB": 384,
    "name": "ml.r5.12xlarge",
    "vcpuNum": 48
   },
   {
    "_defaultOrder": 45,
    "_isFastLaunch": false,
    "category": "Memory Optimized",
    "gpuNum": 0,
    "hideHardwareSpecs": false,
    "memoryGiB": 512,
    "name": "ml.r5.16xlarge",
    "vcpuNum": 64
   },
   {
    "_defaultOrder": 46,
    "_isFastLaunch": false,
    "category": "Memory Optimized",
    "gpuNum": 0,
    "hideHardwareSpecs": false,
    "memoryGiB": 768,
    "name": "ml.r5.24xlarge",
    "vcpuNum": 96
   },
   {
    "_defaultOrder": 47,
    "_isFastLaunch": false,
    "category": "Accelerated computing",
    "gpuNum": 1,
    "hideHardwareSpecs": false,
    "memoryGiB": 16,
    "name": "ml.g5.xlarge",
    "vcpuNum": 4
   },
   {
    "_defaultOrder": 48,
    "_isFastLaunch": false,
    "category": "Accelerated computing",
    "gpuNum": 1,
    "hideHardwareSpecs": false,
    "memoryGiB": 32,
    "name": "ml.g5.2xlarge",
    "vcpuNum": 8
   },
   {
    "_defaultOrder": 49,
    "_isFastLaunch": false,
    "category": "Accelerated computing",
    "gpuNum": 1,
    "hideHardwareSpecs": false,
    "memoryGiB": 64,
    "name": "ml.g5.4xlarge",
    "vcpuNum": 16
   },
   {
    "_defaultOrder": 50,
    "_isFastLaunch": false,
    "category": "Accelerated computing",
    "gpuNum": 1,
    "hideHardwareSpecs": false,
    "memoryGiB": 128,
    "name": "ml.g5.8xlarge",
    "vcpuNum": 32
   },
   {
    "_defaultOrder": 51,
    "_isFastLaunch": false,
    "category": "Accelerated computing",
    "gpuNum": 1,
    "hideHardwareSpecs": false,
    "memoryGiB": 256,
    "name": "ml.g5.16xlarge",
    "vcpuNum": 64
   },
   {
    "_defaultOrder": 52,
    "_isFastLaunch": false,
    "category": "Accelerated computing",
    "gpuNum": 4,
    "hideHardwareSpecs": false,
    "memoryGiB": 192,
    "name": "ml.g5.12xlarge",
    "vcpuNum": 48
   },
   {
    "_defaultOrder": 53,
    "_isFastLaunch": false,
    "category": "Accelerated computing",
    "gpuNum": 4,
    "hideHardwareSpecs": false,
    "memoryGiB": 384,
    "name": "ml.g5.24xlarge",
    "vcpuNum": 96
   },
   {
    "_defaultOrder": 54,
    "_isFastLaunch": false,
    "category": "Accelerated computing",
    "gpuNum": 8,
    "hideHardwareSpecs": false,
    "memoryGiB": 768,
    "name": "ml.g5.48xlarge",
    "vcpuNum": 192
   },
   {
    "_defaultOrder": 55,
    "_isFastLaunch": false,
    "category": "Accelerated computing",
    "gpuNum": 8,
    "hideHardwareSpecs": false,
    "memoryGiB": 1152,
    "name": "ml.p4d.24xlarge",
    "vcpuNum": 96
   },
   {
    "_defaultOrder": 56,
    "_isFastLaunch": false,
    "category": "Accelerated computing",
    "gpuNum": 8,
    "hideHardwareSpecs": false,
    "memoryGiB": 1152,
    "name": "ml.p4de.24xlarge",
    "vcpuNum": 96
   }
  ],
  "instance_type": "ml.m5.large",
  "kernelspec": {
   "display_name": "Glue Python [PySpark and Ray] (SparkAnalytics 2.0)",
   "language": "python",
   "name": "conda-env-sm_glue_is-glue_pyspark__SAGEMAKER_INTERNAL__arn:aws:sagemaker:us-east-1:081325390199:image/sagemaker-sparkanalytics-310-v1"
  },
  "language_info": {
   "codemirror_mode": {
    "name": "python",
    "version": 3
   },
   "file_extension": ".py",
   "mimetype": "text/x-python",
   "name": "Python_Glue_Session",
   "pygments_lexer": "python3"
  }
 },
 "nbformat": 4,
 "nbformat_minor": 5
}
