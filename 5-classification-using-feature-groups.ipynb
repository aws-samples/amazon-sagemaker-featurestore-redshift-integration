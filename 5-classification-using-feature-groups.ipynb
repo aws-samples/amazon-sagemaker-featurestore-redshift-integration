{
 "cells": [
  {
   "cell_type": "markdown",
   "id": "87ff778d-3fa2-428d-a7ff-fa290f0cdb4b",
   "metadata": {},
   "source": [
    "## Build a machine learning model using features from SageMaker Feature Store\n",
    "\n",
    "This notebook demostrate how to retrieve features from multiple feature groups from SageMaker Feature Store to train a machine learning model, and apply the model to batch transform job. \n",
    "\n",
    "If you are prompted to choose a Kernel, choose `Data Science` as image, `Python 3` as kernel."
   ]
  },
  {
   "cell_type": "code",
   "execution_count": null,
   "id": "a33cdd82-9b30-43a9-9fce-52060f59cf07",
   "metadata": {
    "scrolled": true,
    "tags": []
   },
   "outputs": [],
   "source": [
    "!pip install --upgrade sagemaker"
   ]
  },
  {
   "cell_type": "code",
   "execution_count": null,
   "id": "d91c9129-0175-4971-a9a7-685ce7ed5f27",
   "metadata": {
    "tags": []
   },
   "outputs": [],
   "source": [
    "import sagemaker\n",
    "import boto3\n",
    "import sys\n",
    "import io\n",
    "import pandas as pd\n",
    "import numpy as np\n",
    "from sklearn.model_selection import train_test_split\n",
    "from sklearn.metrics import accuracy_score\n",
    "\n",
    "from sagemaker import get_execution_role"
   ]
  },
  {
   "cell_type": "code",
   "execution_count": null,
   "id": "e3f740ce-fea6-400f-9a36-92ff39156ac7",
   "metadata": {
    "tags": []
   },
   "outputs": [],
   "source": [
    "prefix = \"redshift-featurestore-blog\"\n",
    "role = get_execution_role()\n",
    "\n",
    "sagemaker_session = sagemaker.Session()\n",
    "region = sagemaker_session.boto_region_name\n",
    "s3_bucket_name = sagemaker_session.default_bucket()\n",
    "\n",
    "print(f\"Region is {region}\")\n",
    "print(f\"IAM role is {role}\")"
   ]
  },
  {
   "cell_type": "code",
   "execution_count": null,
   "id": "1d641c7d-53af-444b-8bb8-f80a7821ab43",
   "metadata": {
    "scrolled": true,
    "tags": []
   },
   "outputs": [],
   "source": [
    "sagemaker_session.boto_session.client(\"sagemaker\", region_name=region).list_feature_groups()"
   ]
  },
  {
   "cell_type": "code",
   "execution_count": null,
   "id": "090c7848-15fc-4ef4-9960-86e9bcb01d1d",
   "metadata": {
    "tags": []
   },
   "outputs": [],
   "source": [
    "# In order to avoid duplicates for 4a/4b experiements, we define 2 series of feature groups for each trail\n",
    "# In the previous step, if you tried 4a with Glue interactive sessions\n",
    "# feature_group_prefix = 'redshift-sm-demo-4a-'\n",
    "# If you tried 4b with SageMaker Processing Job in previous step\n",
    "feature_group_prefix = 'redshift-sm-demo-4b-'\n",
    "\n",
    "def get_table_name(feature_group_name):\n",
    "    featurestore_table = sagemaker_session.describe_feature_group(feature_group_name)['OfflineStoreConfig']['DataCatalogConfig']['TableName']\n",
    "    return featurestore_table\n",
    "\n",
    "dim_user_feature_group_name = feature_group_prefix + 'users'\n",
    "dim_place_feature_group_name = feature_group_prefix + 'places'\n",
    "fact_rating_feature_group_name = feature_group_prefix + 'ratings'\n",
    "print(f\"users_table : {dim_user_feature_group_name} \\nplaces_table : {dim_place_feature_group_name} \\nratings_table : {fact_rating_feature_group_name} \")"
   ]
  },
  {
   "cell_type": "code",
   "execution_count": null,
   "id": "3717ea0d-8299-461e-89ce-265cbb6635e1",
   "metadata": {
    "tags": []
   },
   "outputs": [],
   "source": [
    "from sagemaker.feature_store.feature_group import FeatureGroup\n",
    "\n",
    "dim_user_feature_group = FeatureGroup(name=dim_user_feature_group_name, sagemaker_session=sagemaker_session)\n",
    "dim_place_feature_group = FeatureGroup(name=dim_place_feature_group_name, sagemaker_session=sagemaker_session)\n",
    "fact_rating_feature_group = FeatureGroup(name=fact_rating_feature_group_name, sagemaker_session=sagemaker_session)"
   ]
  },
  {
   "cell_type": "code",
   "execution_count": null,
   "id": "181b67f9-5648-4aaa-a2e0-de26321f5c99",
   "metadata": {
    "tags": []
   },
   "outputs": [],
   "source": [
    "# dim_user_feature_group.delete()\n",
    "# dim_place_feature_group.delete()\n",
    "# fact_rating_feature_group.delete()"
   ]
  },
  {
   "cell_type": "code",
   "execution_count": null,
   "id": "ac78025b-0459-4faf-84e2-8034f3efb065",
   "metadata": {
    "tags": []
   },
   "outputs": [],
   "source": [
    "# dim_user_feature_group.describe()\n",
    "# dim_place_feature_group.describe()\n",
    "# fact_rating_feature_group.describe()"
   ]
  },
  {
   "cell_type": "markdown",
   "id": "5cdaa7ea-60b3-40b3-a470-f0ce991f9767",
   "metadata": {},
   "source": [
    "## Build training dataset"
   ]
  },
  {
   "cell_type": "markdown",
   "id": "0958820e-88d6-4027-8ba4-ac4df56de21b",
   "metadata": {},
   "source": [
    "Option 1: Using Feature Store API DatasetBuilder"
   ]
  },
  {
   "cell_type": "code",
   "execution_count": null,
   "id": "03111770-40c6-4e50-9b46-e7e62e457b0b",
   "metadata": {
    "tags": []
   },
   "outputs": [],
   "source": [
    "from sagemaker.feature_store.dataset_builder import DatasetBuilder\n",
    "\n",
    "fact_rating_dataset = DatasetBuilder(\n",
    "    sagemaker_session = sagemaker_session, \n",
    "    base = fact_rating_feature_group,\n",
    "    output_path = f\"s3://{s3_bucket_name}/{prefix}\",\n",
    "    record_identifier_feature_name = 'ratingid',\n",
    "    event_time_identifier_feature_name = 'timestamp', \n",
    ").to_dataframe()[0]\n",
    "\n",
    "fact_rating_dataset.head()"
   ]
  },
  {
   "cell_type": "code",
   "execution_count": null,
   "id": "d7d36554-1e75-4d91-b670-8b836ed2da04",
   "metadata": {
    "tags": []
   },
   "outputs": [],
   "source": [
    "fact_rating_dataset = fact_rating_dataset.drop(columns=['ratingid', 'timestamp'])"
   ]
  },
  {
   "cell_type": "code",
   "execution_count": null,
   "id": "e334d7f8-785c-449e-9a42-c7b7f18e1706",
   "metadata": {
    "tags": []
   },
   "outputs": [],
   "source": [
    "dim_place_dataset = DatasetBuilder(\n",
    "    sagemaker_session = sagemaker_session, \n",
    "    base = dim_place_feature_group,\n",
    "    output_path = f\"s3://{s3_bucket_name}/{prefix}\",\n",
    "    record_identifier_feature_name = 'placeid',\n",
    "    event_time_identifier_feature_name = 'timestamp', \n",
    ").to_dataframe()[0]\n",
    "\n",
    "dim_place_dataset.head()"
   ]
  },
  {
   "cell_type": "code",
   "execution_count": null,
   "id": "c2cc00f1-4116-4552-a8f0-c1b786d1c32f",
   "metadata": {
    "tags": []
   },
   "outputs": [],
   "source": [
    "dim_place_dataset = dim_place_dataset.drop(columns='timestamp')"
   ]
  },
  {
   "cell_type": "markdown",
   "id": "1ac75ff5-584a-49a7-800c-dc03689df45e",
   "metadata": {},
   "source": [
    "Option 2: Utilizing the auto-built Glue Data Catalog for FeatureGroup"
   ]
  },
  {
   "cell_type": "code",
   "execution_count": null,
   "id": "c08e94ed-0a3f-40dd-b29a-db1e60734d0d",
   "metadata": {
    "tags": []
   },
   "outputs": [],
   "source": [
    "dim_user_query = dim_user_feature_group.athena_query()\n",
    "dim_user_table = dim_user_query.table_name\n",
    "\n",
    "dim_user_query_string = (\n",
    "    'SELECT * FROM \"'\n",
    "    + dim_user_table\n",
    "    + '\"'\n",
    ")\n",
    "print(dim_user_query_string)"
   ]
  },
  {
   "cell_type": "code",
   "execution_count": null,
   "id": "90f89271-9297-4ccd-bf56-28a1e7e6b7bc",
   "metadata": {
    "tags": []
   },
   "outputs": [],
   "source": [
    "dim_user_query.run(\n",
    "    query_string = dim_user_query_string,\n",
    "    output_location = f\"s3://{s3_bucket_name}/{prefix}\",\n",
    ")\n",
    "\n",
    "dim_user_query.wait()\n",
    "dim_user_dataset = dim_user_query.as_dataframe()\n",
    "\n",
    "dim_user_dataset.head()"
   ]
  },
  {
   "cell_type": "code",
   "execution_count": null,
   "id": "0fb0a94d-6079-4e3e-bfc7-d86767b7a8c3",
   "metadata": {
    "tags": []
   },
   "outputs": [],
   "source": [
    "dim_user_dataset = dim_user_dataset.drop(columns = [\"timestamp\", \"write_time\", \"api_invocation_time\", \"is_deleted\"])"
   ]
  },
  {
   "cell_type": "code",
   "execution_count": null,
   "id": "c747fc48-ec8c-4dfd-834e-dd3817ccd43a",
   "metadata": {
    "tags": []
   },
   "outputs": [],
   "source": [
    "# Merge selected columns from three datasets\n",
    "final_data = pd.merge(pd.merge(fact_rating_dataset, dim_user_dataset, on='userid'), dim_place_dataset, on='placeid')\n",
    "final_data.head()"
   ]
  },
  {
   "cell_type": "code",
   "execution_count": null,
   "id": "f9d46872-50b9-4479-a4fe-f53f983cd337",
   "metadata": {
    "tags": []
   },
   "outputs": [],
   "source": [
    "final_data.shape"
   ]
  },
  {
   "cell_type": "code",
   "execution_count": null,
   "id": "c41a21c0-0b5c-4080-9f46-b0977fa77c9e",
   "metadata": {
    "tags": []
   },
   "outputs": [],
   "source": [
    "# Check data for any nulls\n",
    "final_data.isnull().values.any()"
   ]
  },
  {
   "cell_type": "code",
   "execution_count": null,
   "id": "e893dde3-7d08-4f1a-bb85-fb79da5693da",
   "metadata": {
    "tags": []
   },
   "outputs": [],
   "source": [
    "# True/False -> 1/0\n",
    "final_data['user_smoker'] = final_data['user_smoker'].astype(int)"
   ]
  },
  {
   "cell_type": "code",
   "execution_count": null,
   "id": "ec6e6f7a-e65e-4feb-9899-a04df42f9cd5",
   "metadata": {
    "tags": []
   },
   "outputs": [],
   "source": [
    "# Move rating_overall (label) to the first column\n",
    "first_column = final_data.pop('rating_overall')\n",
    "final_data.insert(0, 'rating_overall', first_column)"
   ]
  },
  {
   "cell_type": "code",
   "execution_count": null,
   "id": "1ea7122e-0adf-4799-967f-047630cdfc38",
   "metadata": {
    "tags": []
   },
   "outputs": [],
   "source": [
    "pd.set_option('display.max_columns', None)\n",
    "final_data.head()"
   ]
  },
  {
   "cell_type": "code",
   "execution_count": null,
   "id": "f3499fbc-26ad-451a-bd16-07dff417c857",
   "metadata": {
    "tags": []
   },
   "outputs": [],
   "source": [
    "# Split label column and remove header\n",
    "feature_id_col = final_data.columns[1:]\n",
    "label_col = final_data.columns[0]\n",
    "\n",
    "features_ids = final_data[feature_id_col].values\n",
    "labels = final_data[label_col].values.astype('float32')"
   ]
  },
  {
   "cell_type": "code",
   "execution_count": null,
   "id": "645bcea2-458c-4259-80f7-932bea84ada9",
   "metadata": {
    "tags": []
   },
   "outputs": [],
   "source": [
    "# Split some samples for final testing\n",
    "X_train_all, X_test, y_train_all, y_test = train_test_split(features_ids, labels, test_size=0.1, stratify=labels)"
   ]
  },
  {
   "cell_type": "code",
   "execution_count": null,
   "id": "0be62c55-a21e-4399-a2ab-bc96f6388cad",
   "metadata": {
    "tags": []
   },
   "outputs": [],
   "source": [
    "# Drop userID and placeID columns in training set\n",
    "X_train_all = X_train_all[:, 2:].astype('float32')"
   ]
  },
  {
   "cell_type": "code",
   "execution_count": null,
   "id": "36cc1f89-532e-42ba-8d4b-f96278944cc0",
   "metadata": {
    "tags": []
   },
   "outputs": [],
   "source": [
    "# Split train & validation dataset\n",
    "X_train, X_validation, y_train, y_validation = train_test_split(X_train_all, y_train_all, test_size=0.2, stratify=y_train_all)"
   ]
  },
  {
   "cell_type": "code",
   "execution_count": null,
   "id": "2f16cf90-edd2-4132-ba9e-b99fa089dc34",
   "metadata": {
    "tags": []
   },
   "outputs": [],
   "source": [
    "# Prepare data in csv\n",
    "train_concate = np.concatenate((y_train.reshape(len(y_train),1), X_train), axis=1)\n",
    "train_data = pd.DataFrame(train_concate, index=None, columns=None)\n",
    "\n",
    "validation_concate = np.concatenate((y_validation.reshape(len(y_validation),1), X_validation), axis=1)\n",
    "validation_data = pd.DataFrame(validation_concate, index=None, columns=None)\n",
    "\n",
    "test_concate = np.concatenate((y_test.reshape(len(y_test),1), X_test), axis=1)\n",
    "test_data = pd.DataFrame(test_concate, index=None, columns=None)"
   ]
  },
  {
   "cell_type": "code",
   "execution_count": null,
   "id": "3df2c05b-96ed-4e6d-bece-95c77aeb10ce",
   "metadata": {
    "tags": []
   },
   "outputs": [],
   "source": [
    "train_data.to_csv('train_data.csv', header=False, index=False)\n",
    "validation_data.to_csv('validation_data.csv', header=False, index=False)\n",
    "# test_data.to_csv('test_data.csv', header=False, index=False)"
   ]
  },
  {
   "cell_type": "code",
   "execution_count": null,
   "id": "90b5b857-c342-4ac2-b371-4b81d9c7983b",
   "metadata": {
    "tags": []
   },
   "outputs": [],
   "source": [
    "# Upload training and validation data to s3\n",
    "sagemaker.Session().upload_data('train_data.csv', bucket=s3_bucket_name, key_prefix=prefix+'/train')\n",
    "sagemaker.Session().upload_data('validation_data.csv', bucket=s3_bucket_name, key_prefix=prefix+'/validation')"
   ]
  },
  {
   "cell_type": "markdown",
   "id": "b71a7fab-1d35-413b-9286-8985ca68d7fd",
   "metadata": {
    "tags": []
   },
   "source": [
    "## Model training\n",
    "\n",
    "Training job will take about 3 minutes"
   ]
  },
  {
   "cell_type": "code",
   "execution_count": null,
   "id": "143de50a-3e77-451f-bfa4-f0bb8de8ed74",
   "metadata": {
    "tags": []
   },
   "outputs": [],
   "source": [
    "# Train XgBoost\n",
    "container = sagemaker.image_uris.retrieve(\"xgboost\", region, \"1.5-1\")\n",
    "\n",
    "hyperparameters = {\n",
    "    \"num_class\": \"3\",\n",
    "    \"max_depth\": \"9\", # 10\n",
    "    \"eta\": \"0.2\",\n",
    "    \"gamma\": \"4\",\n",
    "    \"min_child_weight\": \"1.3\",  # 1.6\n",
    "    \"subsample\": \"0.7\",\n",
    "    \"objective\": \"multi:softmax\",\n",
    "    \"num_round\": \"254\",  # 266\n",
    "    \"verbosity\": \"2\",\n",
    "    \"alpha\": \"0.07\",  # 0.03\n",
    "    \n",
    "}\n",
    "\n",
    "output_path = f\"s3://{s3_bucket_name}/{prefix}/output\"\n",
    "\n",
    "xgb_estimator = sagemaker.estimator.Estimator(\n",
    "    container,\n",
    "    role,\n",
    "    base_job_name = \"feature-store-xgb\",\n",
    "    hyperparameters = hyperparameters,\n",
    "    instance_type = \"ml.m5.2xlarge\",\n",
    "    instance_count = 1,\n",
    "    volume_size = 5,\n",
    "    output_path = output_path,\n",
    "    sagemaker_session = sagemaker.Session(),\n",
    ")"
   ]
  },
  {
   "cell_type": "code",
   "execution_count": null,
   "id": "b3ce5c1b-ac91-4492-b48c-61a2a1a22b07",
   "metadata": {
    "scrolled": true,
    "tags": []
   },
   "outputs": [],
   "source": [
    "train_input = sagemaker.inputs.TrainingInput(f\"s3://{s3_bucket_name}/{prefix}/train/\", content_type=\"csv\")\n",
    "validation_input = sagemaker.inputs.TrainingInput(f\"s3://{s3_bucket_name}/{prefix}/validation/\", content_type=\"csv\")\n",
    "\n",
    "xgb_estimator.fit({'train':train_input, 'validation':validation_input})"
   ]
  },
  {
   "cell_type": "markdown",
   "id": "c8999d2b-a9cc-44d9-8a31-5667eb2dc182",
   "metadata": {},
   "source": [
    "## Batch Transform"
   ]
  },
  {
   "cell_type": "code",
   "execution_count": null,
   "id": "ab7c26f6-d9f9-4c65-beac-189b43f11f2c",
   "metadata": {
    "tags": []
   },
   "outputs": [],
   "source": [
    "y_test = test_data.iloc[:,0]\n",
    "y_test = np.array(y_test.to_numpy()).flatten().astype(float)"
   ]
  },
  {
   "cell_type": "code",
   "execution_count": null,
   "id": "295b84cd-1c6f-4dd0-9404-597dc2d117ec",
   "metadata": {
    "tags": []
   },
   "outputs": [],
   "source": [
    "test_data_nolabel = test_data.iloc[:, 3:]\n",
    "test_data_nolabel = pd.concat([test_data[1],test_data_nolabel], axis=1)\n",
    "test_data_nolabel.head()"
   ]
  },
  {
   "cell_type": "code",
   "execution_count": null,
   "id": "423fca1e-39b6-435e-968d-c93adad045cd",
   "metadata": {
    "tags": []
   },
   "outputs": [],
   "source": [
    "test_data_nolabel.to_csv('test_data_nolabel.csv', header=None, index=False)\n",
    "sagemaker.Session().upload_data('test_data_nolabel.csv', bucket=s3_bucket_name, key_prefix=prefix+'/test')"
   ]
  },
  {
   "cell_type": "code",
   "execution_count": null,
   "id": "2545ae0f-310c-4955-be9d-581397b3ce4e",
   "metadata": {
    "tags": []
   },
   "outputs": [],
   "source": [
    "s3_batch_input = f's3://{s3_bucket_name}/{prefix}/test/test_data_nolabel.csv'\n",
    "s3_batch_output = f's3://{s3_bucket_name}/{prefix}/batch_output'"
   ]
  },
  {
   "cell_type": "code",
   "execution_count": null,
   "id": "034e4b2a-f6b2-4152-90cb-efb75201a461",
   "metadata": {
    "tags": []
   },
   "outputs": [],
   "source": [
    "xgb_transformer = xgb_estimator.transformer(\n",
    "    instance_count = 1, \n",
    "    instance_type = 'ml.m5.xlarge',\n",
    "    output_path=s3_batch_output,\n",
    "    assemble_with=\"Line\",\n",
    "    accept = 'text/csv'\n",
    ")"
   ]
  },
  {
   "cell_type": "code",
   "execution_count": null,
   "id": "5f2be2c9-ae71-4d2a-8335-feb19ca8c3c9",
   "metadata": {
    "scrolled": true,
    "tags": []
   },
   "outputs": [],
   "source": [
    "xgb_transformer.transform(data=s3_batch_input, data_type='S3Prefix', content_type='text/csv', split_type='Line', input_filter=\"$[1:]\", join_source=\"Input\", output_filter=\"$[0,-1]\")\n",
    "\n",
    "xgb_transformer.wait()"
   ]
  },
  {
   "cell_type": "code",
   "execution_count": null,
   "id": "938e1f63-744e-4f58-b0a8-c6ddc81e2122",
   "metadata": {
    "tags": []
   },
   "outputs": [],
   "source": [
    "batch_output_location = f's3://{s3_bucket_name}/{prefix}/batch_output/test_data_nolabel.csv.out'\n",
    "print(f'Batch transform output location: {batch_output_location}')"
   ]
  },
  {
   "cell_type": "code",
   "execution_count": null,
   "id": "5f338137-3697-4dd5-a594-f35ca9a2f573",
   "metadata": {
    "tags": []
   },
   "outputs": [],
   "source": [
    "batch_output = pd.read_csv(batch_output_location, header=None, encoding = \"ISO-8859-1\")\n",
    "batch_output.head()"
   ]
  },
  {
   "cell_type": "code",
   "execution_count": null,
   "id": "18f95840-0203-4a05-8077-b428746baa29",
   "metadata": {
    "tags": []
   },
   "outputs": [],
   "source": [
    "batch_output = np.array(batch_output.iloc[:,1].to_numpy()).flatten().astype(float)\n",
    "acc = accuracy_score(y_test, batch_output)\n",
    "print(f\"Accuracy on test data is {acc}\")"
   ]
  },
  {
   "cell_type": "markdown",
   "id": "ef2feb1f-87bb-4944-9365-2b34088b9c6c",
   "metadata": {},
   "source": [
    "## Do HPO in training if needed\n",
    "\n",
    "HPO job will take about 20 minutes"
   ]
  },
  {
   "cell_type": "code",
   "execution_count": null,
   "id": "1c4950c4-e49f-4bd1-9265-7e2cffe9de9d",
   "metadata": {
    "tags": []
   },
   "outputs": [],
   "source": [
    "from sagemaker.tuner import (\n",
    "    IntegerParameter,\n",
    "    CategoricalParameter,\n",
    "    ContinuousParameter,\n",
    "    HyperparameterTuner,\n",
    ")\n",
    "\n",
    "hyperparameter_ranges = {\n",
    "    \"min_child_weight\": ContinuousParameter(1, 5),\n",
    "    \"max_depth\": IntegerParameter(1, 10),\n",
    "    \"num_round\":IntegerParameter(1, 300),\n",
    "    \"alpha\": ContinuousParameter(0, 0.3),\n",
    "}\n",
    "\n",
    "objective_metric_name = \"validation:accuracy\"\n",
    "\n",
    "tuner = HyperparameterTuner(xgb_estimator, objective_metric_name, hyperparameter_ranges, max_jobs=200, max_parallel_jobs=10)\n",
    "\n",
    "tuner.fit({'train':train_input, 'validation':validation_input})"
   ]
  },
  {
   "cell_type": "code",
   "execution_count": null,
   "id": "9b68fd4b-7545-4454-bd42-aabed31094e2",
   "metadata": {
    "tags": []
   },
   "outputs": [],
   "source": [
    "tuner.best_training_job()"
   ]
  },
  {
   "cell_type": "code",
   "execution_count": null,
   "id": "870fe205-d5f6-416a-9769-8f7230633d35",
   "metadata": {
    "tags": []
   },
   "outputs": [],
   "source": [
    "tuner.best_estimator().hyperparameters()"
   ]
  },
  {
   "cell_type": "code",
   "execution_count": null,
   "id": "9c640896-0a11-4bcf-a0ed-aab92ae9351e",
   "metadata": {},
   "outputs": [],
   "source": []
  }
 ],
 "metadata": {
  "availableInstances": [
   {
    "_defaultOrder": 0,
    "_isFastLaunch": true,
    "category": "General purpose",
    "gpuNum": 0,
    "memoryGiB": 4,
    "name": "ml.t3.medium",
    "vcpuNum": 2
   },
   {
    "_defaultOrder": 1,
    "_isFastLaunch": false,
    "category": "General purpose",
    "gpuNum": 0,
    "memoryGiB": 8,
    "name": "ml.t3.large",
    "vcpuNum": 2
   },
   {
    "_defaultOrder": 2,
    "_isFastLaunch": false,
    "category": "General purpose",
    "gpuNum": 0,
    "memoryGiB": 16,
    "name": "ml.t3.xlarge",
    "vcpuNum": 4
   },
   {
    "_defaultOrder": 3,
    "_isFastLaunch": false,
    "category": "General purpose",
    "gpuNum": 0,
    "memoryGiB": 32,
    "name": "ml.t3.2xlarge",
    "vcpuNum": 8
   },
   {
    "_defaultOrder": 4,
    "_isFastLaunch": true,
    "category": "General purpose",
    "gpuNum": 0,
    "memoryGiB": 8,
    "name": "ml.m5.large",
    "vcpuNum": 2
   },
   {
    "_defaultOrder": 5,
    "_isFastLaunch": false,
    "category": "General purpose",
    "gpuNum": 0,
    "memoryGiB": 16,
    "name": "ml.m5.xlarge",
    "vcpuNum": 4
   },
   {
    "_defaultOrder": 6,
    "_isFastLaunch": false,
    "category": "General purpose",
    "gpuNum": 0,
    "memoryGiB": 32,
    "name": "ml.m5.2xlarge",
    "vcpuNum": 8
   },
   {
    "_defaultOrder": 7,
    "_isFastLaunch": false,
    "category": "General purpose",
    "gpuNum": 0,
    "memoryGiB": 64,
    "name": "ml.m5.4xlarge",
    "vcpuNum": 16
   },
   {
    "_defaultOrder": 8,
    "_isFastLaunch": false,
    "category": "General purpose",
    "gpuNum": 0,
    "memoryGiB": 128,
    "name": "ml.m5.8xlarge",
    "vcpuNum": 32
   },
   {
    "_defaultOrder": 9,
    "_isFastLaunch": false,
    "category": "General purpose",
    "gpuNum": 0,
    "memoryGiB": 192,
    "name": "ml.m5.12xlarge",
    "vcpuNum": 48
   },
   {
    "_defaultOrder": 10,
    "_isFastLaunch": false,
    "category": "General purpose",
    "gpuNum": 0,
    "memoryGiB": 256,
    "name": "ml.m5.16xlarge",
    "vcpuNum": 64
   },
   {
    "_defaultOrder": 11,
    "_isFastLaunch": false,
    "category": "General purpose",
    "gpuNum": 0,
    "memoryGiB": 384,
    "name": "ml.m5.24xlarge",
    "vcpuNum": 96
   },
   {
    "_defaultOrder": 12,
    "_isFastLaunch": false,
    "category": "General purpose",
    "gpuNum": 0,
    "memoryGiB": 8,
    "name": "ml.m5d.large",
    "vcpuNum": 2
   },
   {
    "_defaultOrder": 13,
    "_isFastLaunch": false,
    "category": "General purpose",
    "gpuNum": 0,
    "memoryGiB": 16,
    "name": "ml.m5d.xlarge",
    "vcpuNum": 4
   },
   {
    "_defaultOrder": 14,
    "_isFastLaunch": false,
    "category": "General purpose",
    "gpuNum": 0,
    "memoryGiB": 32,
    "name": "ml.m5d.2xlarge",
    "vcpuNum": 8
   },
   {
    "_defaultOrder": 15,
    "_isFastLaunch": false,
    "category": "General purpose",
    "gpuNum": 0,
    "memoryGiB": 64,
    "name": "ml.m5d.4xlarge",
    "vcpuNum": 16
   },
   {
    "_defaultOrder": 16,
    "_isFastLaunch": false,
    "category": "General purpose",
    "gpuNum": 0,
    "memoryGiB": 128,
    "name": "ml.m5d.8xlarge",
    "vcpuNum": 32
   },
   {
    "_defaultOrder": 17,
    "_isFastLaunch": false,
    "category": "General purpose",
    "gpuNum": 0,
    "memoryGiB": 192,
    "name": "ml.m5d.12xlarge",
    "vcpuNum": 48
   },
   {
    "_defaultOrder": 18,
    "_isFastLaunch": false,
    "category": "General purpose",
    "gpuNum": 0,
    "memoryGiB": 256,
    "name": "ml.m5d.16xlarge",
    "vcpuNum": 64
   },
   {
    "_defaultOrder": 19,
    "_isFastLaunch": false,
    "category": "General purpose",
    "gpuNum": 0,
    "memoryGiB": 384,
    "name": "ml.m5d.24xlarge",
    "vcpuNum": 96
   },
   {
    "_defaultOrder": 20,
    "_isFastLaunch": true,
    "category": "Compute optimized",
    "gpuNum": 0,
    "memoryGiB": 4,
    "name": "ml.c5.large",
    "vcpuNum": 2
   },
   {
    "_defaultOrder": 21,
    "_isFastLaunch": false,
    "category": "Compute optimized",
    "gpuNum": 0,
    "memoryGiB": 8,
    "name": "ml.c5.xlarge",
    "vcpuNum": 4
   },
   {
    "_defaultOrder": 22,
    "_isFastLaunch": false,
    "category": "Compute optimized",
    "gpuNum": 0,
    "memoryGiB": 16,
    "name": "ml.c5.2xlarge",
    "vcpuNum": 8
   },
   {
    "_defaultOrder": 23,
    "_isFastLaunch": false,
    "category": "Compute optimized",
    "gpuNum": 0,
    "memoryGiB": 32,
    "name": "ml.c5.4xlarge",
    "vcpuNum": 16
   },
   {
    "_defaultOrder": 24,
    "_isFastLaunch": false,
    "category": "Compute optimized",
    "gpuNum": 0,
    "memoryGiB": 72,
    "name": "ml.c5.9xlarge",
    "vcpuNum": 36
   },
   {
    "_defaultOrder": 25,
    "_isFastLaunch": false,
    "category": "Compute optimized",
    "gpuNum": 0,
    "memoryGiB": 96,
    "name": "ml.c5.12xlarge",
    "vcpuNum": 48
   },
   {
    "_defaultOrder": 26,
    "_isFastLaunch": false,
    "category": "Compute optimized",
    "gpuNum": 0,
    "memoryGiB": 144,
    "name": "ml.c5.18xlarge",
    "vcpuNum": 72
   },
   {
    "_defaultOrder": 27,
    "_isFastLaunch": false,
    "category": "Compute optimized",
    "gpuNum": 0,
    "memoryGiB": 192,
    "name": "ml.c5.24xlarge",
    "vcpuNum": 96
   },
   {
    "_defaultOrder": 28,
    "_isFastLaunch": true,
    "category": "Accelerated computing",
    "gpuNum": 1,
    "memoryGiB": 16,
    "name": "ml.g4dn.xlarge",
    "vcpuNum": 4
   },
   {
    "_defaultOrder": 29,
    "_isFastLaunch": false,
    "category": "Accelerated computing",
    "gpuNum": 1,
    "memoryGiB": 32,
    "name": "ml.g4dn.2xlarge",
    "vcpuNum": 8
   },
   {
    "_defaultOrder": 30,
    "_isFastLaunch": false,
    "category": "Accelerated computing",
    "gpuNum": 1,
    "memoryGiB": 64,
    "name": "ml.g4dn.4xlarge",
    "vcpuNum": 16
   },
   {
    "_defaultOrder": 31,
    "_isFastLaunch": false,
    "category": "Accelerated computing",
    "gpuNum": 1,
    "memoryGiB": 128,
    "name": "ml.g4dn.8xlarge",
    "vcpuNum": 32
   },
   {
    "_defaultOrder": 32,
    "_isFastLaunch": false,
    "category": "Accelerated computing",
    "gpuNum": 4,
    "memoryGiB": 192,
    "name": "ml.g4dn.12xlarge",
    "vcpuNum": 48
   },
   {
    "_defaultOrder": 33,
    "_isFastLaunch": false,
    "category": "Accelerated computing",
    "gpuNum": 1,
    "memoryGiB": 256,
    "name": "ml.g4dn.16xlarge",
    "vcpuNum": 64
   },
   {
    "_defaultOrder": 34,
    "_isFastLaunch": false,
    "category": "Accelerated computing",
    "gpuNum": 1,
    "memoryGiB": 61,
    "name": "ml.p3.2xlarge",
    "vcpuNum": 8
   },
   {
    "_defaultOrder": 35,
    "_isFastLaunch": false,
    "category": "Accelerated computing",
    "gpuNum": 4,
    "memoryGiB": 244,
    "name": "ml.p3.8xlarge",
    "vcpuNum": 32
   },
   {
    "_defaultOrder": 36,
    "_isFastLaunch": false,
    "category": "Accelerated computing",
    "gpuNum": 8,
    "memoryGiB": 488,
    "name": "ml.p3.16xlarge",
    "vcpuNum": 64
   },
   {
    "_defaultOrder": 37,
    "_isFastLaunch": false,
    "category": "Accelerated computing",
    "gpuNum": 8,
    "memoryGiB": 768,
    "name": "ml.p3dn.24xlarge",
    "vcpuNum": 96
   },
   {
    "_defaultOrder": 38,
    "_isFastLaunch": false,
    "category": "Memory Optimized",
    "gpuNum": 0,
    "memoryGiB": 16,
    "name": "ml.r5.large",
    "vcpuNum": 2
   },
   {
    "_defaultOrder": 39,
    "_isFastLaunch": false,
    "category": "Memory Optimized",
    "gpuNum": 0,
    "memoryGiB": 32,
    "name": "ml.r5.xlarge",
    "vcpuNum": 4
   },
   {
    "_defaultOrder": 40,
    "_isFastLaunch": false,
    "category": "Memory Optimized",
    "gpuNum": 0,
    "memoryGiB": 64,
    "name": "ml.r5.2xlarge",
    "vcpuNum": 8
   },
   {
    "_defaultOrder": 41,
    "_isFastLaunch": false,
    "category": "Memory Optimized",
    "gpuNum": 0,
    "memoryGiB": 128,
    "name": "ml.r5.4xlarge",
    "vcpuNum": 16
   },
   {
    "_defaultOrder": 42,
    "_isFastLaunch": false,
    "category": "Memory Optimized",
    "gpuNum": 0,
    "memoryGiB": 256,
    "name": "ml.r5.8xlarge",
    "vcpuNum": 32
   },
   {
    "_defaultOrder": 43,
    "_isFastLaunch": false,
    "category": "Memory Optimized",
    "gpuNum": 0,
    "memoryGiB": 384,
    "name": "ml.r5.12xlarge",
    "vcpuNum": 48
   },
   {
    "_defaultOrder": 44,
    "_isFastLaunch": false,
    "category": "Memory Optimized",
    "gpuNum": 0,
    "memoryGiB": 512,
    "name": "ml.r5.16xlarge",
    "vcpuNum": 64
   },
   {
    "_defaultOrder": 45,
    "_isFastLaunch": false,
    "category": "Memory Optimized",
    "gpuNum": 0,
    "memoryGiB": 768,
    "name": "ml.r5.24xlarge",
    "vcpuNum": 96
   },
   {
    "_defaultOrder": 46,
    "_isFastLaunch": false,
    "category": "Accelerated computing",
    "gpuNum": 1,
    "memoryGiB": 16,
    "name": "ml.g5.xlarge",
    "vcpuNum": 4
   },
   {
    "_defaultOrder": 47,
    "_isFastLaunch": false,
    "category": "Accelerated computing",
    "gpuNum": 1,
    "memoryGiB": 32,
    "name": "ml.g5.2xlarge",
    "vcpuNum": 8
   },
   {
    "_defaultOrder": 48,
    "_isFastLaunch": false,
    "category": "Accelerated computing",
    "gpuNum": 1,
    "memoryGiB": 64,
    "name": "ml.g5.4xlarge",
    "vcpuNum": 16
   },
   {
    "_defaultOrder": 49,
    "_isFastLaunch": false,
    "category": "Accelerated computing",
    "gpuNum": 1,
    "memoryGiB": 128,
    "name": "ml.g5.8xlarge",
    "vcpuNum": 32
   },
   {
    "_defaultOrder": 50,
    "_isFastLaunch": false,
    "category": "Accelerated computing",
    "gpuNum": 1,
    "memoryGiB": 256,
    "name": "ml.g5.16xlarge",
    "vcpuNum": 64
   },
   {
    "_defaultOrder": 51,
    "_isFastLaunch": false,
    "category": "Accelerated computing",
    "gpuNum": 4,
    "memoryGiB": 192,
    "name": "ml.g5.12xlarge",
    "vcpuNum": 48
   },
   {
    "_defaultOrder": 52,
    "_isFastLaunch": false,
    "category": "Accelerated computing",
    "gpuNum": 4,
    "memoryGiB": 384,
    "name": "ml.g5.24xlarge",
    "vcpuNum": 96
   },
   {
    "_defaultOrder": 53,
    "_isFastLaunch": false,
    "category": "Accelerated computing",
    "gpuNum": 8,
    "memoryGiB": 768,
    "name": "ml.g5.48xlarge",
    "vcpuNum": 192
   }
  ],
  "instance_type": "ml.t3.medium",
  "kernelspec": {
   "display_name": "Python 3 (Data Science)",
   "language": "python",
   "name": "python3__SAGEMAKER_INTERNAL__arn:aws:sagemaker:us-east-1:081325390199:image/datascience-1.0"
  },
  "language_info": {
   "codemirror_mode": {
    "name": "ipython",
    "version": 3
   },
   "file_extension": ".py",
   "mimetype": "text/x-python",
   "name": "python",
   "nbconvert_exporter": "python",
   "pygments_lexer": "ipython3",
   "version": "3.7.10"
  }
 },
 "nbformat": 4,
 "nbformat_minor": 5
}
